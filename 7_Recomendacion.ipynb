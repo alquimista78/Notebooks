{
 "cells": [
  {
   "cell_type": "code",
   "execution_count": 19,
   "metadata": {
    "collapsed": true
   },
   "outputs": [],
   "source": [
    "## Cargo las librerias\n",
    "import numpy as np\n",
    "import pandas as pd\n",
    "from scipy.spatial.distance import squareform, pdist\n",
    "\n",
    "##Librerias de tiempo\n",
    "import time\n",
    "from datetime import datetime\n",
    "import time\n",
    "\n",
    "import re\n",
    "\n",
    "##Graficos\n",
    "% matplotlib inline\n",
    "import matplotlib.pyplot as plt\n",
    "import seaborn as sns\n",
    "from math import pi"
   ]
  },
  {
   "cell_type": "code",
   "execution_count": 20,
   "metadata": {
    "collapsed": true
   },
   "outputs": [],
   "source": [
    "#################################################################################################################################\n",
    "##Importo el archivo\n",
    "#################################################################################################################################\n",
    "movie_sent = pd.read_csv('6_peliculas_sentimientos.csv', sep = ';')"
   ]
  },
  {
   "cell_type": "code",
   "execution_count": 24,
   "metadata": {},
   "outputs": [
    {
     "data": {
      "text/plain": [
       "(3295, 12)"
      ]
     },
     "execution_count": 24,
     "metadata": {},
     "output_type": "execute_result"
    }
   ],
   "source": [
    "movie_sent.shape"
   ]
  },
  {
   "cell_type": "code",
   "execution_count": 21,
   "metadata": {
    "collapsed": true,
    "scrolled": true
   },
   "outputs": [],
   "source": [
    "##Filtro para quedarme con los campos necesarios para armar la matriz de distancia\n",
    "movie_filter=movie_sent[['title','fear', 'trust', 'joy', 'anticipation', 'anger', 'disgust', 'sadness','surprise']]"
   ]
  },
  {
   "cell_type": "code",
   "execution_count": 22,
   "metadata": {
    "collapsed": true
   },
   "outputs": [],
   "source": [
    "##Creo la matriz de distancia de todas las películas\n",
    "mat_dist=pd.DataFrame(squareform(pdist(movie_filter.iloc[:, 1:], metric='euclidean')), columns=movie_filter.title, index=movie_filter.title)"
   ]
  },
  {
   "cell_type": "code",
   "execution_count": 29,
   "metadata": {},
   "outputs": [
    {
     "data": {
      "text/html": [
       "<div>\n",
       "<style>\n",
       "    .dataframe thead tr:only-child th {\n",
       "        text-align: right;\n",
       "    }\n",
       "\n",
       "    .dataframe thead th {\n",
       "        text-align: left;\n",
       "    }\n",
       "\n",
       "    .dataframe tbody tr th {\n",
       "        vertical-align: top;\n",
       "    }\n",
       "</style>\n",
       "<table border=\"1\" class=\"dataframe\">\n",
       "  <thead>\n",
       "    <tr style=\"text-align: right;\">\n",
       "      <th></th>\n",
       "      <th>Paranormal Activity</th>\n",
       "    </tr>\n",
       "    <tr>\n",
       "      <th>title</th>\n",
       "      <th></th>\n",
       "    </tr>\n",
       "  </thead>\n",
       "  <tbody>\n",
       "    <tr>\n",
       "      <th>Halloween</th>\n",
       "      <td>2.526053</td>\n",
       "    </tr>\n",
       "    <tr>\n",
       "      <th>White Fang</th>\n",
       "      <td>2.945597</td>\n",
       "    </tr>\n",
       "    <tr>\n",
       "      <th>The Spirit</th>\n",
       "      <td>3.107434</td>\n",
       "    </tr>\n",
       "    <tr>\n",
       "      <th>R.I.P.D.</th>\n",
       "      <td>3.226461</td>\n",
       "    </tr>\n",
       "    <tr>\n",
       "      <th>Friday the 13th Part 2</th>\n",
       "      <td>3.327485</td>\n",
       "    </tr>\n",
       "    <tr>\n",
       "      <th>Earth to Echo</th>\n",
       "      <td>3.489044</td>\n",
       "    </tr>\n",
       "    <tr>\n",
       "      <th>Death Race</th>\n",
       "      <td>3.556526</td>\n",
       "    </tr>\n",
       "    <tr>\n",
       "      <th>eXistenZ</th>\n",
       "      <td>3.579930</td>\n",
       "    </tr>\n",
       "  </tbody>\n",
       "</table>\n",
       "</div>"
      ],
      "text/plain": [
       "                        Paranormal Activity\n",
       "title                                      \n",
       "Halloween                          2.526053\n",
       "White Fang                         2.945597\n",
       "The Spirit                         3.107434\n",
       "R.I.P.D.                           3.226461\n",
       "Friday the 13th Part 2             3.327485\n",
       "Earth to Echo                      3.489044\n",
       "Death Race                         3.556526\n",
       "eXistenZ                           3.579930"
      ]
     },
     "execution_count": 29,
     "metadata": {},
     "output_type": "execute_result"
    }
   ],
   "source": [
    "##Busco las peliculas similares en sentimiento a una dada película\n",
    "#pelicula_buscada = 'X-Men: Days of Future Past'\n",
    "pelicula_buscada = 'Paranormal Activity'\n",
    "#pelicula_buscada = 'Ratatouille'\n",
    "peliculas_similares = pd.DataFrame(mat_dist[pelicula_buscada].sort_values( ).head(9)[1:])\n",
    "\n",
    "pelicula_grafico = movie_sent.loc[movie_sent.title.isin(peliculas_similares.index.tolist() + [pelicula_buscada]), :]\n",
    "peliculas_similares"
   ]
  },
  {
   "cell_type": "code",
   "execution_count": 14,
   "metadata": {},
   "outputs": [
    {
     "name": "stdout",
     "output_type": "stream",
     "text": [
      "cant_procesadas: 1 de 6 Duration: 0:00:00.554886\n",
      "cant_procesadas: 2 de 6 Duration: 0:00:00.840021\n",
      "cant_procesadas: 3 de 6 Duration: 0:00:01.082494\n",
      "cant_procesadas: 4 de 6 Duration: 0:00:01.345917\n",
      "cant_procesadas: 5 de 6 Duration: 0:00:01.550126\n",
      "cant_procesadas: 6 de 6 Duration: 0:00:01.766156\n"
     ]
    }
   ],
   "source": [
    "##Grafico las películas similares\n",
    "hora_ini = datetime.now()\n",
    "cant=0\n",
    "\n",
    "for i in pelicula_grafico['title']:\n",
    "    \n",
    "    ##Filtro la pelicula\n",
    "    pel_filt = pelicula_grafico.loc[pelicula_grafico.title == i, ['fear', 'trust','joy', 'anticipation','anger', 'disgust','sadness', 'surprise']]\n",
    "    ## Grafico\n",
    "    \n",
    "    sent = pel_filt.columns\n",
    "    values = pel_filt.values.tolist()[0]\n",
    "\n",
    "    N = len(sent)\n",
    "\n",
    "    values += values[:1]\n",
    "    values\n",
    "\n",
    "    # What will be the angle of each axis in the plot? (we divide the plot / number of variable)\n",
    "    angles = [n / float(N) * 2 * pi for n in range(N)]\n",
    "    angles += angles[:1]\n",
    "\n",
    "    # Initialise the spider plot\n",
    "    ax = plt.subplot(111, polar=True)\n",
    "\n",
    "    # Draw one axe per variable + add labels labels yet\n",
    "    plt.xticks(angles[:-1], sent, color='black', size=12)\n",
    "\n",
    "    # Draw ylabels\n",
    "    ax.set_rlabel_position(90)\n",
    "    plt.yticks([10,20, 30, 40], [\"10\",\"20\", \"30\", \"40\"], color=\"grey\", size=10)\n",
    "    plt.ylim(0,50)\n",
    "\n",
    "    # Plot data\n",
    "    ax.plot(angles, values, linewidth=1, linestyle='solid')\n",
    "\n",
    "    # Fill area\n",
    "    ax.fill(angles, values, 'b', alpha=0.1)\n",
    "\n",
    "    # Agrego el titulo\n",
    "    ax.axes.set_title(i,fontsize=20)\n",
    "\n",
    "    #Guardo el grafico\n",
    "    plt.savefig('./graficos_sentimientos/Recomendacion/'+re.sub('\\W+', ' ', i)+'.png')\n",
    "    plt.close()\n",
    "    \n",
    "    cant += 1\n",
    "    print('cant_procesadas:',cant, 'de',len(pelicula_grafico['title']) ,'Duration: {}'.format(datetime.now() - hora_ini))"
   ]
  },
  {
   "cell_type": "code",
   "execution_count": null,
   "metadata": {
    "collapsed": true
   },
   "outputs": [],
   "source": []
  }
 ],
 "metadata": {
  "kernelspec": {
   "display_name": "Python 3",
   "language": "python",
   "name": "python3"
  },
  "language_info": {
   "codemirror_mode": {
    "name": "ipython",
    "version": 3
   },
   "file_extension": ".py",
   "mimetype": "text/x-python",
   "name": "python",
   "nbconvert_exporter": "python",
   "pygments_lexer": "ipython3",
   "version": "3.6.1"
  }
 },
 "nbformat": 4,
 "nbformat_minor": 2
}
