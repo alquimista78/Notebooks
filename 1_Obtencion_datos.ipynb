{
 "cells": [
  {
   "cell_type": "code",
   "execution_count": 2,
   "metadata": {
    "collapsed": true
   },
   "outputs": [],
   "source": [
    "## Cargo las librerias\n",
    "import numpy as np\n",
    "import pandas as pd\n",
    "from pandas.io.json import json_normalize\n",
    " \n",
    "\n",
    "##Cargo las librerias de omdb\n",
    "import omdb\n",
    "import requests\n",
    "\n",
    "##Cargo librerias de scraping web\n",
    "import re \n",
    "from bs4 import BeautifulSoup\n",
    "import requests\n",
    "\n",
    "##Para archivos y directorios\n",
    "import io\n",
    "import os\n",
    "import chardet\n",
    "\n",
    "##Librerias de tiempo\n",
    "import time\n",
    "from datetime import datetime\n",
    "import time\n",
    "\n",
    "##Libreria del zip\n",
    "from zipfile import ZipFile\n",
    "\n",
    "#Con esto podemos echar un vistazo a código HTML directamente en la Notebook\n",
    "from IPython.display import HTML, display\n",
    "\n",
    "##Librerías utilizadas para el muestreo de género de las peliculas\n",
    "from collections import Counter\n",
    "from random import uniform\n",
    "from random import random\n",
    "from bisect import bisect\n",
    "\n",
    "###Librerias para el conteno de palabras (subtitulos)\n",
    "from sklearn.feature_extraction.text import CountVectorizer\n",
    "import nltk as nl\n",
    "from nltk import word_tokenize\n",
    "from nltk.stem.porter import PorterStemmer\n",
    "import string as st\n",
    "from textblob import TextBlob\n",
    "\n",
    "##Separar training y test\n",
    "from sklearn.model_selection import train_test_split, KFold, cross_val_score, GridSearchCV\n",
    "from sklearn import preprocessing\n",
    "##Metricas\n",
    "from sklearn.metrics import confusion_matrix, roc_auc_score, roc_curve, accuracy_score\n",
    "\n",
    "##Modelos\n",
    "from sklearn.linear_model import LogisticRegression, LogisticRegressionCV\n",
    "from sklearn.svm import SVC\n",
    "from sklearn.neighbors import KNeighborsClassifier\n",
    "from sklearn.naive_bayes import MultinomialNB\n",
    "\n",
    "from sklearn.tree import DecisionTreeClassifier\n",
    "from sklearn.ensemble import BaggingClassifier\n",
    "from sklearn.model_selection import cross_val_score\n",
    "\n",
    "\n",
    "##Graficos\n",
    "% matplotlib inline\n",
    "import matplotlib.pyplot as plt\n",
    "import seaborn as sns"
   ]
  },
  {
   "cell_type": "code",
   "execution_count": 2,
   "metadata": {},
   "outputs": [
    {
     "name": "stdout",
     "output_type": "stream",
     "text": [
      "df_movies:  4803\n",
      "<class 'pandas.core.frame.DataFrame'>\n",
      "RangeIndex: 4803 entries, 0 to 4802\n",
      "Data columns (total 20 columns):\n",
      "budget                  4803 non-null int64\n",
      "genres                  4803 non-null object\n",
      "homepage                1712 non-null object\n",
      "id                      4803 non-null int64\n",
      "keywords                4803 non-null object\n",
      "original_language       4803 non-null object\n",
      "original_title          4803 non-null object\n",
      "overview                4800 non-null object\n",
      "popularity              4803 non-null float64\n",
      "production_companies    4803 non-null object\n",
      "production_countries    4803 non-null object\n",
      "release_date            4802 non-null object\n",
      "revenue                 4803 non-null int64\n",
      "runtime                 4801 non-null float64\n",
      "spoken_languages        4803 non-null object\n",
      "status                  4803 non-null object\n",
      "tagline                 3959 non-null object\n",
      "title                   4803 non-null object\n",
      "vote_average            4803 non-null float64\n",
      "vote_count              4803 non-null int64\n",
      "dtypes: float64(3), int64(4), object(13)\n",
      "memory usage: 750.5+ KB\n",
      "None\n"
     ]
    }
   ],
   "source": [
    "##Importo el data set de películas\n",
    "# Cargar la data\n",
    "df_movies = pd.read_csv('./tmdb_5000_movies.csv', sep = ',')\n",
    "\n",
    "print('df_movies: ',df_movies.shape[0])\n",
    "print(df_movies.info())\n"
   ]
  },
  {
   "cell_type": "code",
   "execution_count": 3,
   "metadata": {},
   "outputs": [
    {
     "data": {
      "text/plain": [
       "(4504, 20)"
      ]
     },
     "execution_count": 3,
     "metadata": {},
     "output_type": "execute_result"
    }
   ],
   "source": [
    "## Filtro las peliculas para que solo me traiga las que el idioma original sean en ingles\n",
    "df_movies.original_language.value_counts()\n",
    "df_movies = df_movies.loc[(df_movies.original_language == 'en') & (~df_movies.release_date.isnull()), :]\n",
    "df_movies.shape"
   ]
  },
  {
   "cell_type": "code",
   "execution_count": 4,
   "metadata": {},
   "outputs": [
    {
     "name": "stdout",
     "output_type": "stream",
     "text": [
      "min fecha:  1916-09-04 00:00:00\n",
      "max fecha:  2017-02-03 00:00:00\n"
     ]
    },
    {
     "data": {
      "text/html": [
       "<div>\n",
       "<style>\n",
       "    .dataframe thead tr:only-child th {\n",
       "        text-align: right;\n",
       "    }\n",
       "\n",
       "    .dataframe thead th {\n",
       "        text-align: left;\n",
       "    }\n",
       "\n",
       "    .dataframe tbody tr th {\n",
       "        vertical-align: top;\n",
       "    }\n",
       "</style>\n",
       "<table border=\"1\" class=\"dataframe\">\n",
       "  <thead>\n",
       "    <tr style=\"text-align: right;\">\n",
       "      <th></th>\n",
       "      <th>budget</th>\n",
       "      <th>genres</th>\n",
       "      <th>homepage</th>\n",
       "      <th>id</th>\n",
       "      <th>keywords</th>\n",
       "      <th>original_language</th>\n",
       "      <th>original_title</th>\n",
       "      <th>overview</th>\n",
       "      <th>popularity</th>\n",
       "      <th>production_companies</th>\n",
       "      <th>production_countries</th>\n",
       "      <th>release_date</th>\n",
       "      <th>revenue</th>\n",
       "      <th>runtime</th>\n",
       "      <th>spoken_languages</th>\n",
       "      <th>status</th>\n",
       "      <th>tagline</th>\n",
       "      <th>title</th>\n",
       "      <th>vote_average</th>\n",
       "      <th>vote_count</th>\n",
       "    </tr>\n",
       "  </thead>\n",
       "  <tbody>\n",
       "    <tr>\n",
       "      <th>0</th>\n",
       "      <td>237000000</td>\n",
       "      <td>[{\"id\": 28, \"name\": \"Action\"}, {\"id\": 12, \"nam...</td>\n",
       "      <td>http://www.avatarmovie.com/</td>\n",
       "      <td>19995</td>\n",
       "      <td>[{\"id\": 1463, \"name\": \"culture clash\"}, {\"id\":...</td>\n",
       "      <td>en</td>\n",
       "      <td>Avatar</td>\n",
       "      <td>In the 22nd century, a paraplegic Marine is di...</td>\n",
       "      <td>150.437577</td>\n",
       "      <td>[{\"name\": \"Ingenious Film Partners\", \"id\": 289...</td>\n",
       "      <td>[{\"iso_3166_1\": \"US\", \"name\": \"United States o...</td>\n",
       "      <td>2009-12-10</td>\n",
       "      <td>2787965087</td>\n",
       "      <td>162.0</td>\n",
       "      <td>[{\"iso_639_1\": \"en\", \"name\": \"English\"}, {\"iso...</td>\n",
       "      <td>Released</td>\n",
       "      <td>Enter the World of Pandora.</td>\n",
       "      <td>Avatar</td>\n",
       "      <td>7.2</td>\n",
       "      <td>11800</td>\n",
       "    </tr>\n",
       "    <tr>\n",
       "      <th>1</th>\n",
       "      <td>300000000</td>\n",
       "      <td>[{\"id\": 12, \"name\": \"Adventure\"}, {\"id\": 14, \"...</td>\n",
       "      <td>http://disney.go.com/disneypictures/pirates/</td>\n",
       "      <td>285</td>\n",
       "      <td>[{\"id\": 270, \"name\": \"ocean\"}, {\"id\": 726, \"na...</td>\n",
       "      <td>en</td>\n",
       "      <td>Pirates of the Caribbean: At World's End</td>\n",
       "      <td>Captain Barbossa, long believed to be dead, ha...</td>\n",
       "      <td>139.082615</td>\n",
       "      <td>[{\"name\": \"Walt Disney Pictures\", \"id\": 2}, {\"...</td>\n",
       "      <td>[{\"iso_3166_1\": \"US\", \"name\": \"United States o...</td>\n",
       "      <td>2007-05-19</td>\n",
       "      <td>961000000</td>\n",
       "      <td>169.0</td>\n",
       "      <td>[{\"iso_639_1\": \"en\", \"name\": \"English\"}]</td>\n",
       "      <td>Released</td>\n",
       "      <td>At the end of the world, the adventure begins.</td>\n",
       "      <td>Pirates of the Caribbean: At World's End</td>\n",
       "      <td>6.9</td>\n",
       "      <td>4500</td>\n",
       "    </tr>\n",
       "    <tr>\n",
       "      <th>2</th>\n",
       "      <td>245000000</td>\n",
       "      <td>[{\"id\": 28, \"name\": \"Action\"}, {\"id\": 12, \"nam...</td>\n",
       "      <td>http://www.sonypictures.com/movies/spectre/</td>\n",
       "      <td>206647</td>\n",
       "      <td>[{\"id\": 470, \"name\": \"spy\"}, {\"id\": 818, \"name...</td>\n",
       "      <td>en</td>\n",
       "      <td>Spectre</td>\n",
       "      <td>A cryptic message from Bond’s past sends him o...</td>\n",
       "      <td>107.376788</td>\n",
       "      <td>[{\"name\": \"Columbia Pictures\", \"id\": 5}, {\"nam...</td>\n",
       "      <td>[{\"iso_3166_1\": \"GB\", \"name\": \"United Kingdom\"...</td>\n",
       "      <td>2015-10-26</td>\n",
       "      <td>880674609</td>\n",
       "      <td>148.0</td>\n",
       "      <td>[{\"iso_639_1\": \"fr\", \"name\": \"Fran\\u00e7ais\"},...</td>\n",
       "      <td>Released</td>\n",
       "      <td>A Plan No One Escapes</td>\n",
       "      <td>Spectre</td>\n",
       "      <td>6.3</td>\n",
       "      <td>4466</td>\n",
       "    </tr>\n",
       "    <tr>\n",
       "      <th>3</th>\n",
       "      <td>250000000</td>\n",
       "      <td>[{\"id\": 28, \"name\": \"Action\"}, {\"id\": 80, \"nam...</td>\n",
       "      <td>http://www.thedarkknightrises.com/</td>\n",
       "      <td>49026</td>\n",
       "      <td>[{\"id\": 849, \"name\": \"dc comics\"}, {\"id\": 853,...</td>\n",
       "      <td>en</td>\n",
       "      <td>The Dark Knight Rises</td>\n",
       "      <td>Following the death of District Attorney Harve...</td>\n",
       "      <td>112.312950</td>\n",
       "      <td>[{\"name\": \"Legendary Pictures\", \"id\": 923}, {\"...</td>\n",
       "      <td>[{\"iso_3166_1\": \"US\", \"name\": \"United States o...</td>\n",
       "      <td>2012-07-16</td>\n",
       "      <td>1084939099</td>\n",
       "      <td>165.0</td>\n",
       "      <td>[{\"iso_639_1\": \"en\", \"name\": \"English\"}]</td>\n",
       "      <td>Released</td>\n",
       "      <td>The Legend Ends</td>\n",
       "      <td>The Dark Knight Rises</td>\n",
       "      <td>7.6</td>\n",
       "      <td>9106</td>\n",
       "    </tr>\n",
       "    <tr>\n",
       "      <th>4</th>\n",
       "      <td>260000000</td>\n",
       "      <td>[{\"id\": 28, \"name\": \"Action\"}, {\"id\": 12, \"nam...</td>\n",
       "      <td>http://movies.disney.com/john-carter</td>\n",
       "      <td>49529</td>\n",
       "      <td>[{\"id\": 818, \"name\": \"based on novel\"}, {\"id\":...</td>\n",
       "      <td>en</td>\n",
       "      <td>John Carter</td>\n",
       "      <td>John Carter is a war-weary, former military ca...</td>\n",
       "      <td>43.926995</td>\n",
       "      <td>[{\"name\": \"Walt Disney Pictures\", \"id\": 2}]</td>\n",
       "      <td>[{\"iso_3166_1\": \"US\", \"name\": \"United States o...</td>\n",
       "      <td>2012-03-07</td>\n",
       "      <td>284139100</td>\n",
       "      <td>132.0</td>\n",
       "      <td>[{\"iso_639_1\": \"en\", \"name\": \"English\"}]</td>\n",
       "      <td>Released</td>\n",
       "      <td>Lost in our world, found in another.</td>\n",
       "      <td>John Carter</td>\n",
       "      <td>6.1</td>\n",
       "      <td>2124</td>\n",
       "    </tr>\n",
       "  </tbody>\n",
       "</table>\n",
       "</div>"
      ],
      "text/plain": [
       "      budget                                             genres  \\\n",
       "0  237000000  [{\"id\": 28, \"name\": \"Action\"}, {\"id\": 12, \"nam...   \n",
       "1  300000000  [{\"id\": 12, \"name\": \"Adventure\"}, {\"id\": 14, \"...   \n",
       "2  245000000  [{\"id\": 28, \"name\": \"Action\"}, {\"id\": 12, \"nam...   \n",
       "3  250000000  [{\"id\": 28, \"name\": \"Action\"}, {\"id\": 80, \"nam...   \n",
       "4  260000000  [{\"id\": 28, \"name\": \"Action\"}, {\"id\": 12, \"nam...   \n",
       "\n",
       "                                       homepage      id  \\\n",
       "0                   http://www.avatarmovie.com/   19995   \n",
       "1  http://disney.go.com/disneypictures/pirates/     285   \n",
       "2   http://www.sonypictures.com/movies/spectre/  206647   \n",
       "3            http://www.thedarkknightrises.com/   49026   \n",
       "4          http://movies.disney.com/john-carter   49529   \n",
       "\n",
       "                                            keywords original_language  \\\n",
       "0  [{\"id\": 1463, \"name\": \"culture clash\"}, {\"id\":...                en   \n",
       "1  [{\"id\": 270, \"name\": \"ocean\"}, {\"id\": 726, \"na...                en   \n",
       "2  [{\"id\": 470, \"name\": \"spy\"}, {\"id\": 818, \"name...                en   \n",
       "3  [{\"id\": 849, \"name\": \"dc comics\"}, {\"id\": 853,...                en   \n",
       "4  [{\"id\": 818, \"name\": \"based on novel\"}, {\"id\":...                en   \n",
       "\n",
       "                             original_title  \\\n",
       "0                                    Avatar   \n",
       "1  Pirates of the Caribbean: At World's End   \n",
       "2                                   Spectre   \n",
       "3                     The Dark Knight Rises   \n",
       "4                               John Carter   \n",
       "\n",
       "                                            overview  popularity  \\\n",
       "0  In the 22nd century, a paraplegic Marine is di...  150.437577   \n",
       "1  Captain Barbossa, long believed to be dead, ha...  139.082615   \n",
       "2  A cryptic message from Bond’s past sends him o...  107.376788   \n",
       "3  Following the death of District Attorney Harve...  112.312950   \n",
       "4  John Carter is a war-weary, former military ca...   43.926995   \n",
       "\n",
       "                                production_companies  \\\n",
       "0  [{\"name\": \"Ingenious Film Partners\", \"id\": 289...   \n",
       "1  [{\"name\": \"Walt Disney Pictures\", \"id\": 2}, {\"...   \n",
       "2  [{\"name\": \"Columbia Pictures\", \"id\": 5}, {\"nam...   \n",
       "3  [{\"name\": \"Legendary Pictures\", \"id\": 923}, {\"...   \n",
       "4        [{\"name\": \"Walt Disney Pictures\", \"id\": 2}]   \n",
       "\n",
       "                                production_countries release_date     revenue  \\\n",
       "0  [{\"iso_3166_1\": \"US\", \"name\": \"United States o...   2009-12-10  2787965087   \n",
       "1  [{\"iso_3166_1\": \"US\", \"name\": \"United States o...   2007-05-19   961000000   \n",
       "2  [{\"iso_3166_1\": \"GB\", \"name\": \"United Kingdom\"...   2015-10-26   880674609   \n",
       "3  [{\"iso_3166_1\": \"US\", \"name\": \"United States o...   2012-07-16  1084939099   \n",
       "4  [{\"iso_3166_1\": \"US\", \"name\": \"United States o...   2012-03-07   284139100   \n",
       "\n",
       "   runtime                                   spoken_languages    status  \\\n",
       "0    162.0  [{\"iso_639_1\": \"en\", \"name\": \"English\"}, {\"iso...  Released   \n",
       "1    169.0           [{\"iso_639_1\": \"en\", \"name\": \"English\"}]  Released   \n",
       "2    148.0  [{\"iso_639_1\": \"fr\", \"name\": \"Fran\\u00e7ais\"},...  Released   \n",
       "3    165.0           [{\"iso_639_1\": \"en\", \"name\": \"English\"}]  Released   \n",
       "4    132.0           [{\"iso_639_1\": \"en\", \"name\": \"English\"}]  Released   \n",
       "\n",
       "                                          tagline  \\\n",
       "0                     Enter the World of Pandora.   \n",
       "1  At the end of the world, the adventure begins.   \n",
       "2                           A Plan No One Escapes   \n",
       "3                                 The Legend Ends   \n",
       "4            Lost in our world, found in another.   \n",
       "\n",
       "                                      title  vote_average  vote_count  \n",
       "0                                    Avatar           7.2       11800  \n",
       "1  Pirates of the Caribbean: At World's End           6.9        4500  \n",
       "2                                   Spectre           6.3        4466  \n",
       "3                     The Dark Knight Rises           7.6        9106  \n",
       "4                               John Carter           6.1        2124  "
      ]
     },
     "execution_count": 4,
     "metadata": {},
     "output_type": "execute_result"
    }
   ],
   "source": [
    "##Cambio las fechas a datetime\n",
    "df_movies.release_date = pd.to_datetime(df_movies.release_date)\n",
    "print('min fecha: ', min(df_movies.release_date))\n",
    "print('max fecha: ',max(df_movies.release_date))\n",
    "df_movies.head(5)"
   ]
  },
  {
   "cell_type": "code",
   "execution_count": 5,
   "metadata": {
    "collapsed": true
   },
   "outputs": [],
   "source": [
    "##creo el campo anio\n",
    "df_movies['anio']=df_movies['release_date'].dt.year.astype(int)\n"
   ]
  },
  {
   "cell_type": "code",
   "execution_count": null,
   "metadata": {
    "collapsed": true
   },
   "outputs": [],
   "source": [
    "##Cargo el key de la api de omdb como default\n",
    "omdb.set_default('apikey', 'c0b0cfca')\n",
    "\n",
    "\n",
    "hora_ini = datetime.now()\n",
    "\n",
    "data_base = pd.DataFrame()\n",
    "##Consulto por película\n",
    "for i in range(df_movies.shape[0]):\n",
    "    try:\n",
    "        peliculas = omdb.get(title=df_movies.iloc[i,6], media_type = 'movie', year = df_movies.iloc[i, 20], fullplot=True, tomatoes=True, timeout=60)\n",
    "        df = pd.DataFrame.from_dict(json_normalize(peliculas), orient='columns')\n",
    "        df['id_movie'] = df_movies.iloc[i, 3]\n",
    "        data_base = pd.concat([data_base, df])\n",
    "        time.sleep(1)\n",
    "        if i%100 == 0:\n",
    "            print(i)\n",
    "            print('Duration: {}'.format(datetime.now() - hora_ini))\n",
    "    except Exception as e:\n",
    "        print(\"Unexpected error raised\")\n",
    "        print(e, \"\\n\")\n",
    "        continue"
   ]
  },
  {
   "cell_type": "code",
   "execution_count": null,
   "metadata": {
    "collapsed": true
   },
   "outputs": [],
   "source": [
    "df_movies.info()"
   ]
  },
  {
   "cell_type": "code",
   "execution_count": null,
   "metadata": {
    "collapsed": true
   },
   "outputs": [],
   "source": [
    "#Borro los que no pude detectar\n",
    "data_movies = data_base.loc[~(data_base.id_movie.notnull()&data_base.title.isnull()),:]"
   ]
  },
  {
   "cell_type": "code",
   "execution_count": null,
   "metadata": {
    "collapsed": true
   },
   "outputs": [],
   "source": [
    "##Me fijo en las peliculas que no pudo detectar\n",
    "faltantes = pd.merge(left=df_movies, right=data_movies, how= 'left',left_on='id', right_on='id_movie', indicator=True)\n",
    "faltantes = faltantes.loc[faltantes['_merge'] == 'left_only', ['budget', 'genres', 'homepage', 'id', 'keywords', 'original_language',\n",
    "       'original_title', 'overview', 'popularity', 'production_companies',\n",
    "       'production_countries', 'release_date', 'revenue', 'runtime',\n",
    "       'spoken_languages', 'status', 'tagline', 'title', 'vote_average',\n",
    "       'vote_count', 'anio']]\n"
   ]
  },
  {
   "cell_type": "code",
   "execution_count": null,
   "metadata": {
    "collapsed": true
   },
   "outputs": [],
   "source": [
    "faltantes.shape"
   ]
  },
  {
   "cell_type": "code",
   "execution_count": null,
   "metadata": {
    "collapsed": true
   },
   "outputs": [],
   "source": [
    "##Recupero los faltantes\n",
    "##Cargo el key de la api de omdb como default\n",
    "omdb.set_default('apikey', 'c0b0cfca')\n",
    "\n",
    "\n",
    "hora_ini = datetime.now()\n",
    "\n",
    "data_base = pd.DataFrame()\n",
    "##Consulto por película\n",
    "for i in range(faltantes.shape[0]):\n",
    "    try:\n",
    "        peliculas = omdb.get(title=faltantes.iloc[i,6], media_type = 'movie', year = faltantes.iloc[i, 20], fullplot=True, tomatoes=True, timeout=60)\n",
    "        df = pd.DataFrame.from_dict(json_normalize(peliculas), orient='columns')\n",
    "        df['id_movie'] = faltantes.iloc[i, 3]\n",
    "        data_base = pd.concat([data_base, df])\n",
    "        time.sleep(1)\n",
    "        if i%10 == 0:\n",
    "            print(i)\n",
    "            print('Duration: {}'.format(datetime.now() - hora_ini))\n",
    "    except Exception as e:\n",
    "        print(\"Unexpected error raised\")\n",
    "        print(e, \"\\n\")\n",
    "        continue"
   ]
  },
  {
   "cell_type": "code",
   "execution_count": null,
   "metadata": {
    "collapsed": true
   },
   "outputs": [],
   "source": [
    "data_movies = pd.concat([data_movies, data_base.loc[data_base['title'].notnull(),:]])"
   ]
  },
  {
   "cell_type": "code",
   "execution_count": null,
   "metadata": {
    "collapsed": true
   },
   "outputs": [],
   "source": [
    "data_movies.info()"
   ]
  },
  {
   "cell_type": "code",
   "execution_count": null,
   "metadata": {
    "collapsed": true
   },
   "outputs": [],
   "source": [
    "##Guardo los imdb_id y los titulos\n",
    "data_movies.loc[:,['title','imdb_id']].to_csv('imdb_id.csv', sep=';', index = False)"
   ]
  },
  {
   "cell_type": "code",
   "execution_count": null,
   "metadata": {
    "collapsed": true
   },
   "outputs": [],
   "source": [
    "##Guardo las peliculas\n",
    "data_movies.to_csv('data_movies.csv', sep=';', index = False)"
   ]
  },
  {
   "cell_type": "code",
   "execution_count": null,
   "metadata": {
    "collapsed": true
   },
   "outputs": [],
   "source": [
    "data_movies.columns\n",
    "data_movies.iloc[1,20]"
   ]
  },
  {
   "cell_type": "code",
   "execution_count": 2,
   "metadata": {
    "collapsed": true
   },
   "outputs": [],
   "source": [
    "##Importo el archivo\n",
    "data_movies = pd.read_csv('./imdb_id2.txt', sep = ';')\n"
   ]
  },
  {
   "cell_type": "code",
   "execution_count": 3,
   "metadata": {},
   "outputs": [
    {
     "data": {
      "text/plain": [
       "Index(['title', 'imdb_id'], dtype='object')"
      ]
     },
     "execution_count": 3,
     "metadata": {},
     "output_type": "execute_result"
    }
   ],
   "source": [
    "data_movies.columns"
   ]
  },
  {
   "cell_type": "code",
   "execution_count": 10,
   "metadata": {},
   "outputs": [
    {
     "name": "stdout",
     "output_type": "stream",
     "text": [
      "Unexpected error raised\n",
      "name 'zipfile' is not defined \n",
      "\n",
      "<Response [200]>\n"
     ]
    },
    {
     "ename": "KeyboardInterrupt",
     "evalue": "",
     "output_type": "error",
     "traceback": [
      "\u001b[1;31m---------------------------------------------------------------------------\u001b[0m",
      "\u001b[1;31mNameError\u001b[0m                                 Traceback (most recent call last)",
      "\u001b[1;32m<ipython-input-10-a6d997033426>\u001b[0m in \u001b[0;36m<module>\u001b[1;34m()\u001b[0m\n\u001b[0;32m     35\u001b[0m         \u001b[1;31m##Abro el zip del subtitulo\u001b[0m\u001b[1;33m\u001b[0m\u001b[1;33m\u001b[0m\u001b[0m\n\u001b[1;32m---> 36\u001b[1;33m         \u001b[0mz\u001b[0m \u001b[1;33m=\u001b[0m \u001b[0mzipfile\u001b[0m\u001b[1;33m.\u001b[0m\u001b[0mZipFile\u001b[0m\u001b[1;33m(\u001b[0m\u001b[0mio\u001b[0m\u001b[1;33m.\u001b[0m\u001b[0mBytesIO\u001b[0m\u001b[1;33m(\u001b[0m\u001b[0mdownload_url\u001b[0m\u001b[1;33m.\u001b[0m\u001b[0mcontent\u001b[0m\u001b[1;33m)\u001b[0m\u001b[1;33m)\u001b[0m \u001b[1;31m# Opening zip file\u001b[0m\u001b[1;33m\u001b[0m\u001b[0m\n\u001b[0m\u001b[0;32m     37\u001b[0m \u001b[1;33m\u001b[0m\u001b[0m\n",
      "\u001b[1;31mNameError\u001b[0m: name 'zipfile' is not defined",
      "\nDuring handling of the above exception, another exception occurred:\n",
      "\u001b[1;31mKeyboardInterrupt\u001b[0m                         Traceback (most recent call last)",
      "\u001b[1;32m<ipython-input-10-a6d997033426>\u001b[0m in \u001b[0;36m<module>\u001b[1;34m()\u001b[0m\n\u001b[0;32m     61\u001b[0m         \u001b[0mprint\u001b[0m\u001b[1;33m(\u001b[0m\u001b[0me\u001b[0m\u001b[1;33m,\u001b[0m \u001b[1;34m\"\\n\"\u001b[0m\u001b[1;33m)\u001b[0m\u001b[1;33m\u001b[0m\u001b[0m\n\u001b[0;32m     62\u001b[0m         \u001b[0mprint\u001b[0m\u001b[1;33m(\u001b[0m\u001b[0mdownload_url\u001b[0m\u001b[1;33m)\u001b[0m\u001b[1;33m\u001b[0m\u001b[0m\n\u001b[1;32m---> 63\u001b[1;33m         \u001b[0mtime\u001b[0m\u001b[1;33m.\u001b[0m\u001b[0msleep\u001b[0m\u001b[1;33m(\u001b[0m\u001b[0mnp\u001b[0m\u001b[1;33m.\u001b[0m\u001b[0mrandom\u001b[0m\u001b[1;33m.\u001b[0m\u001b[0muniform\u001b[0m\u001b[1;33m(\u001b[0m\u001b[1;36m10\u001b[0m\u001b[1;33m,\u001b[0m\u001b[1;36m20\u001b[0m\u001b[1;33m)\u001b[0m\u001b[1;33m)\u001b[0m\u001b[1;33m\u001b[0m\u001b[0m\n\u001b[0m\u001b[0;32m     64\u001b[0m         \u001b[1;32mcontinue\u001b[0m\u001b[1;33m\u001b[0m\u001b[0m\n",
      "\u001b[1;31mKeyboardInterrupt\u001b[0m: "
     ]
    }
   ],
   "source": [
    "###Traigo los subtitulos\n",
    "hora_ini = datetime.now()\n",
    "subtitulos_encontrados = pd.DataFrame()\n",
    "\n",
    "head = {'user-agent': 'Mozilla/5.0 (X11; Linux x86_64) AppleWebKit/537.36 (KHTML, like Gecko) '\n",
    "           'Chrome/59.0.3071.115 Safari/537.36'}\n",
    "\n",
    "for i in range(2,100):\n",
    "    try:\n",
    "        s = requests.Session()\n",
    "        \n",
    "        ##Pagina para buscar el id de opensubtitles y para bajar el subtitulo\n",
    "        search_url = 'https://www.opensubtitles.org/en/search/sublanguageid-eng/imdbid-'\n",
    "        download_url = 'https://www.opensubtitles.org/en/download/vrf-108d030f/sub/'\n",
    "\n",
    "        ##Hago el requests get cuando le paso el id de imdb\n",
    "        #contenido = requests.get(search_url + data_movies.iloc[i,8], headers = head, auth=('alquimista1978','alqu1m1sta'))\n",
    "        contenido = s.get(search_url + data_movies.iloc[i,1], headers = head, auth=('alquimista1978','alqu1m1sta'))\n",
    "\n",
    "\n",
    "        ##Hago BeautifulSoup para estructurar la paguina\n",
    "        soup = BeautifulSoup(contenido.text, 'html.parser')\n",
    "\n",
    "        ##Busco la clase bnone y extraigo el href donde se encuentra el id de opensubtitles\n",
    "        id_interno = soup.find('a', attrs={'class': 'bnone'}).get('href')\n",
    "        ##Busco del href los numeros\n",
    "        id_interno = re.findall('\\\\d+', id_interno)[0]\n",
    "        \n",
    "        time.sleep(np.random.uniform(1,10))\n",
    "       \n",
    "        ##genero el link para bajar el subtitulo con el id interno de opensubtitles\n",
    "        #download_url = requests.get(download_url + id_interno, headers = head, auth=('alquimista1978','alqu1m1sta'))\n",
    "        download_url = s.get(download_url + id_interno, headers = head, auth=('alquimista1978','alqu1m1sta'))\n",
    "        \n",
    "        ##Abro el zip del subtitulo \n",
    "        z = zipfile.ZipFile(io.BytesIO(download_url.content)) # Opening zip file\n",
    "\n",
    "        ##Dentro del zip encuentro el archivo con extension srt\n",
    "        srt = [m for m in z.namelist() if re.findall(pattern='.srt', string = m)][0]\n",
    "        \n",
    "        ##Guardo un resumen de lo encontrado\n",
    "        s_econt = pd.DataFrame({'imdb_id': data_movies.iloc[i,1], 'title': data_movies.iloc[i,0], 'subtitulo':srt}, index= {i})\n",
    "    \n",
    "        subtitulos_encontrados = pd.concat([subtitulos_encontrados, s_econt])\n",
    "        \n",
    "        ##Del zip extraigo solo el subtitulo y lo reescribo con el id de imdb\n",
    "        for f in z.filelist:\n",
    "            if f.filename == srt:\n",
    "                f.filename = data_movies.iloc[i,8] +'.srt'\n",
    "                z.extract(member = f, path='./Subtitulos/')\n",
    "        \n",
    "        time.sleep(np.random.uniform(10,20))\n",
    "        \n",
    "        ##Control de tiempo, cuantos va ejecutando y cuantos subtitulos encontro\n",
    "        if i%10 == 0:\n",
    "            print('Cantidad de registros procesados:', i)\n",
    "            print('Tiempo de ejecucion: {}'.format(datetime.now() - hora_ini))\n",
    "            print('Cantidad de subtitulos encontrados:', len(np.unique(subtitulos_encontrados.subtitulo)))\n",
    "    except Exception as e:\n",
    "        print(\"Unexpected error raised\")\n",
    "        print(e, \"\\n\")\n",
    "        print(download_url)\n",
    "        time.sleep(np.random.uniform(10,20))\n",
    "        continue    "
   ]
  },
  {
   "cell_type": "code",
   "execution_count": null,
   "metadata": {
    "collapsed": true
   },
   "outputs": [],
   "source": [
    "#Vemos el contenido renderizado\n",
    "display(HTML(download_url.text))"
   ]
  },
  {
   "cell_type": "code",
   "execution_count": null,
   "metadata": {
    "collapsed": true
   },
   "outputs": [],
   "source": [
    "###Traigo los subtitulos de otra forma\n",
    "hora_ini = datetime.now()\n",
    "subtitulos_encontrados = pd.DataFrame()\n",
    "\n",
    "head = {'user-agent': 'Mozilla/5.0 (X11; Linux x86_64) AppleWebKit/537.36 (KHTML, like Gecko) '\n",
    "           'Chrome/59.0.3071.115 Safari/537.36'}\n",
    "\n",
    "for i in range(171, data_movies.shape[0]):\n",
    "    try:\n",
    "        s = requests.Session()\n",
    "        \n",
    "        ##Pagina para buscar el id de opensubtitles y para bajar el subtitulo\n",
    "        search_url = 'https://www.opensubtitles.org/en/search/sublanguageid-eng/imdbid-'\n",
    "        download_url = 'https://www.opensubtitles.org/en/download/vrf-108d030f/sub/'\n",
    "\n",
    "        ##Hago el requests get cuando le paso el id de imdb\n",
    "        #contenido = requests.get(search_url + data_movies.iloc[i,8], headers = head, auth=('alquimista1978','alqu1m1sta'))\n",
    "        contenido = s.get(search_url + data_movies.iloc[i,8], headers = head, auth=('alquimista1978','alqu1m1sta'))\n",
    "\n",
    "\n",
    "        ##Hago BeautifulSoup para estructurar la paguina\n",
    "        soup = BeautifulSoup(contenido.text, 'html.parser')\n",
    "\n",
    "        ##Busco la clase bnone y extraigo el href donde se encuentra el id de opensubtitles\n",
    "        id_interno = soup.find('a', attrs={'class': 'bnone'}).get('href')\n",
    "        ##Busco del href los numeros\n",
    "        id_interno = re.findall('\\\\d+', id_interno)[0]\n",
    "        \n",
    "        time.sleep(np.random.uniform(1,2))\n",
    "       \n",
    "        ##Guardo un resumen de lo encontrado\n",
    "        s_econt = pd.DataFrame({'imdb_id': data_movies.iloc[i,8], 'title': data_movies.iloc[i,20], 'download_url':download_url + id_interno}, index= {i})\n",
    "    \n",
    "        subtitulos_encontrados = pd.concat([subtitulos_encontrados, s_econt])\n",
    "        \n",
    "        ##Control de tiempo, cuantos va ejecutando y cuantos subtitulos encontro\n",
    "        if i%10 == 0:\n",
    "            print('Cantidad de registros procesados:', i)\n",
    "            print('Tiempo de ejecucion: {}'.format(datetime.now() - hora_ini))\n",
    "            \n",
    "    except Exception as e:\n",
    "        print(\"Unexpected error raised\")\n",
    "        print(e, \"\\n\")\n",
    "        print(download_url)\n",
    "        continue    "
   ]
  },
  {
   "cell_type": "code",
   "execution_count": null,
   "metadata": {
    "collapsed": true
   },
   "outputs": [],
   "source": [
    "subtitulos_encontrados.to_csv('download.csv', sep=';', index = False)"
   ]
  }
 ],
 "metadata": {
  "kernelspec": {
   "display_name": "Python 3",
   "language": "python",
   "name": "python3"
  },
  "language_info": {
   "codemirror_mode": {
    "name": "ipython",
    "version": 3
   },
   "file_extension": ".py",
   "mimetype": "text/x-python",
   "name": "python",
   "nbconvert_exporter": "python",
   "pygments_lexer": "ipython3",
   "version": "3.6.8"
  }
 },
 "nbformat": 4,
 "nbformat_minor": 2
}
