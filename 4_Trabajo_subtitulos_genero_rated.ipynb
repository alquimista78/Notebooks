{
 "cells": [
  {
   "cell_type": "code",
   "execution_count": 1,
   "metadata": {
    "collapsed": true
   },
   "outputs": [],
   "source": [
    "## Cargo las librerias\n",
    "import numpy as np\n",
    "import pandas as pd\n",
    "from pandas.io.json import json_normalize\n",
    " \n",
    "\n",
    "##Cargo las librerias de omdb\n",
    "import omdb\n",
    "import requests\n",
    "\n",
    "##Cargo librerias de scraping web\n",
    "import re \n",
    "from bs4 import BeautifulSoup\n",
    "import requests\n",
    "\n",
    "##Para archivos y directorios\n",
    "import io\n",
    "import os\n",
    "import chardet\n",
    "\n",
    "##Librerias de tiempo\n",
    "import time\n",
    "from datetime import datetime\n",
    "import time\n",
    "\n",
    "##Libreria del zip\n",
    "from zipfile import ZipFile\n",
    "\n",
    "#Con esto podemos echar un vistazo a código HTML directamente en la Notebook\n",
    "from IPython.display import HTML, display\n",
    "\n",
    "##Librerías utilizadas para el muestreo de género de las peliculas\n",
    "from collections import Counter\n",
    "from random import uniform\n",
    "from random import random\n",
    "from bisect import bisect\n",
    "\n",
    "###Librerias para el conteno de palabras (subtitulos)\n",
    "from sklearn.feature_extraction.text import CountVectorizer\n",
    "import nltk as nl\n",
    "from nltk import word_tokenize\n",
    "from nltk.stem.porter import PorterStemmer\n",
    "import string as st\n",
    "from textblob import TextBlob\n",
    "\n",
    "##Separar training y test\n",
    "from sklearn.model_selection import train_test_split, KFold, cross_val_score, GridSearchCV\n",
    "from sklearn import preprocessing\n",
    "##Metricas\n",
    "from sklearn.metrics import confusion_matrix, roc_auc_score, roc_curve, accuracy_score\n",
    "\n",
    "##Modelos\n",
    "from sklearn.linear_model import LogisticRegression, LogisticRegressionCV\n",
    "from sklearn.svm import SVC\n",
    "from sklearn.neighbors import KNeighborsClassifier\n",
    "from sklearn.naive_bayes import MultinomialNB\n",
    "\n",
    "from sklearn.tree import DecisionTreeClassifier\n",
    "from sklearn.ensemble import BaggingClassifier\n",
    "from sklearn.model_selection import cross_val_score\n",
    "\n",
    "\n",
    "##Graficos\n",
    "% matplotlib inline\n",
    "import matplotlib.pyplot as plt\n",
    "import seaborn as sns"
   ]
  },
  {
   "cell_type": "code",
   "execution_count": 73,
   "metadata": {
    "collapsed": true
   },
   "outputs": [],
   "source": [
    "#################################################################################################################################\n",
    "##Importo los archivo\n",
    "#################################################################################################################################\n",
    "sub_text = pd.read_csv('./Subtitulos_limpios.csv', sep = ';')\n",
    "#data_movies = pd.read_csv('./data_movies.csv', sep = ';')\n",
    "data_movies = pd.read_csv('./data_movies_genero_V2.csv', sep = ';')\n",
    "\n"
   ]
  },
  {
   "cell_type": "code",
   "execution_count": null,
   "metadata": {
    "collapsed": true
   },
   "outputs": [],
   "source": [
    "##########################################################################################################\n",
    "########################################## Trabajo con el género #########################################\n",
    "##########################################################################################################\n",
    "\n",
    "##1) calculo la frecuencia de los generos individuales\n",
    "#Parto cada uno de los generos en una listas de listas (una lista de generos por pelicula)\n",
    "generos = [i.split(', ') for i in data_movies['genre']]\n",
    "##Creo una sola lista de las listas por peliculas\n",
    "generos_lista = sum(generos, [])\n",
    "##Hay en total 10.830 registros\n",
    "\n",
    "##Calculo las probabilidades de ocurrencia cada uno de los generos\n",
    "generos = Counter(generos_lista)\n",
    "generos = [(i, generos[i] / len(generos_lista)) for i in generos]\n",
    "\n",
    "##Funcion que toma los generos con sus probabilidades y eligue uno \n",
    "def weighted_choice(choices):\n",
    "    values, weights = zip(*choices)\n",
    "    total = 0\n",
    "    cum_weights = []\n",
    "    for w in weights:\n",
    "        total += w\n",
    "        cum_weights.append(total)\n",
    "    x = random() * total\n",
    "    i = bisect(cum_weights, x)\n",
    "    return values[i]"
   ]
  },
  {
   "cell_type": "code",
   "execution_count": null,
   "metadata": {
    "collapsed": true
   },
   "outputs": [],
   "source": [
    "##A cada genero de las peliculas le pego su probabilidad\n",
    "pos = [z[0] for z in generos]\n",
    "list_generos=[]\n",
    "for i in [i.split(', ') for i in data_movies['genre']]:\n",
    "    list1 = []\n",
    "    for j in i:\n",
    "        list0 = (j, generos[pos.index(j)][1])\n",
    "        list1.append(list0)\n",
    "    list_generos.append(list1)"
   ]
  },
  {
   "cell_type": "code",
   "execution_count": null,
   "metadata": {
    "collapsed": true
   },
   "outputs": [],
   "source": [
    "##Muestreo los generos y se los agrego al dataset\n",
    "data_movies['genero'] = [weighted_choice(i) for i in list_generos]"
   ]
  },
  {
   "cell_type": "code",
   "execution_count": null,
   "metadata": {
    "collapsed": true
   },
   "outputs": [],
   "source": [
    "###Compruebo que al menos el genero que muestreo este entre los generos posibles\n",
    "genre = [i.split(', ') for i in data_movies['genre']]\n",
    "genero = data_movies['genero']\n",
    "sum([genero[i] in genre[i]  for i in range(len(genero))])\n",
    "##Como la suma me da 4318 que es la cantidad total de registros del data set data_movie, esto quiere decir que esta correcto el genero muestreado"
   ]
  },
  {
   "cell_type": "code",
   "execution_count": 72,
   "metadata": {
    "collapsed": true
   },
   "outputs": [],
   "source": [
    "##################################################################################################################################\n",
    "########## Arreglo el dataset data_movies\n",
    "##################################################################################################################################\n",
    "##Borro los campos que estan en NULL\n",
    "#data_movies = data_movies.drop(['tomato_consensus', 'tomato_fresh','tomato_image','tomato_meter','tomato_rating','tomato_reviews','tomato_rotten','tomato_user_meter','tomato_user_rating','tomato_user_reviews'], axis=1)\n",
    "\n",
    "##Reemplazo los N/A por nan\n",
    "data_movies = data_movies.replace('N/A', np.nan)\n",
    "\n",
    "##Transformo las fechas en date\n",
    "data_movies.released = pd.to_datetime(data_movies.released)\n",
    "\n",
    "## Elimino la palabra min a la Duracion\n",
    "def intminutes(x):\n",
    "    if pd.isnull(x):\n",
    "        return np.nan\n",
    "    x = str(x)\n",
    "    y = x.replace('min', '').strip()\n",
    "    return int(y)\n",
    "data_movies.runtime = data_movies.runtime.apply(intminutes)\n",
    "\n",
    "##Paso a entero el año\n",
    "data_movies.year = data_movies.year.astype(int)\n",
    "\n",
    "## Paso el imdbrating a float\n",
    "data_movies.imdb_rating = data_movies.imdb_rating.astype(float)\n",
    "\n",
    "##Le saco las comas a imdb_votes\n",
    "def intvotes(x):\n",
    "    if pd.isnull(x):\n",
    "        return np.nan\n",
    "    x = str(x)\n",
    "    y = x.replace(',', '').strip()\n",
    "    return int(y)\n",
    "#data_movies.imdb_votes = data_movies.imdb_votes.apply(intvotes)"
   ]
  },
  {
   "cell_type": "code",
   "execution_count": null,
   "metadata": {
    "collapsed": true
   },
   "outputs": [],
   "source": [
    "##Guardo el data set data_movie con el genero muestreado\n",
    "#data_movies.to_csv('data_movies_genero_V2.csv', sep=';', index = False)"
   ]
  },
  {
   "cell_type": "code",
   "execution_count": 61,
   "metadata": {},
   "outputs": [
    {
     "name": "stdout",
     "output_type": "stream",
     "text": [
      "21 sl\n",
      "187 bg\n",
      "216 el\n",
      "318 es\n",
      "366 bg\n",
      "452 es\n",
      "468 es\n",
      "597 fr\n",
      "689 iw\n",
      "724 es\n",
      "882 sw\n",
      "944 pt\n",
      "1001 es\n",
      "1190 id\n",
      "1225 zh-CN\n",
      "1245 zh-CN\n",
      "1290 zu\n",
      "1407 ro\n",
      "1444 it\n",
      "1500 fr\n",
      "1508 es\n",
      "1568 es\n",
      "1571 bg\n",
      "1670 es\n",
      "1726 ms\n",
      "1730 pt\n",
      "1765 id\n",
      "1882 es\n",
      "1944 es\n",
      "2190 cs\n",
      "2202 pl\n",
      "2203 nl\n",
      "2206 hu\n",
      "2308 sr\n",
      "2330 id\n",
      "2371 iw\n",
      "2448 es\n",
      "2549 pt\n",
      "2581 de\n",
      "2674 es\n",
      "2679 zh-CN\n",
      "2700 la\n",
      "3000 id\n",
      "3064 zh-CN\n",
      "3066 de\n"
     ]
    }
   ],
   "source": [
    "###############################################################################################################\n",
    "########################################## Trabajo con los subtitulos #########################################\n",
    "###############################################################################################################\n",
    "##Analizo el idioma del texto y muestro solamente los que no son ingles\n",
    "idioma=[]\n",
    "for i in sub_text.subtitulo:\n",
    "    b = TextBlob(i)\n",
    "    idio = b.detect_language()\n",
    "    idioma.append(idio)\n",
    "    if not(idio == 'en'):\n"
   ]
  },
  {
   "cell_type": "code",
   "execution_count": 74,
   "metadata": {
    "collapsed": true
   },
   "outputs": [],
   "source": [
    "#sub_text.subtitulo[2679]\n",
    "#data_movies.loc[data_movies.imdb_id == sub_text.imdb_id[2679],:]\n",
    "#sub_text.imdb_id[724]        print(len(idioma)-1, idio)\n",
    "\n",
    "##Borro los subtitulos que no estan en ingles\n",
    "sub_text = sub_text.drop(sub_text.index[[21,187,216,318,366,452,468,597,689,724,882,944,1001,1190,1225,1245,1290,1407,1444,1500,1508,1568,1571,1670,1726,1730,1765,1882,1944,2190,2202,2203,2206,2308,2330,2371,2448,2549,2581,2674,2679,2700,3000,3064,3066]])"
   ]
  },
  {
   "cell_type": "code",
   "execution_count": 75,
   "metadata": {},
   "outputs": [
    {
     "data": {
      "text/html": [
       "<div>\n",
       "<style>\n",
       "    .dataframe thead tr:only-child th {\n",
       "        text-align: right;\n",
       "    }\n",
       "\n",
       "    .dataframe thead th {\n",
       "        text-align: left;\n",
       "    }\n",
       "\n",
       "    .dataframe tbody tr th {\n",
       "        vertical-align: top;\n",
       "    }\n",
       "</style>\n",
       "<table border=\"1\" class=\"dataframe\">\n",
       "  <thead>\n",
       "    <tr style=\"text-align: right;\">\n",
       "      <th></th>\n",
       "      <th>imdb_id</th>\n",
       "      <th>subtitulo</th>\n",
       "    </tr>\n",
       "  </thead>\n",
       "  <tbody>\n",
       "    <tr>\n",
       "      <th>19</th>\n",
       "      <td>tt0164114</td>\n",
       "      <td>Oh  man \\n\\n  I am so wired \\n  More so than u...</td>\n",
       "    </tr>\n",
       "    <tr>\n",
       "      <th>20</th>\n",
       "      <td>tt0083943</td>\n",
       "      <td>SRT Reviewed   TJK\\n\\nOne target left  Rejoin ...</td>\n",
       "    </tr>\n",
       "    <tr>\n",
       "      <th>22</th>\n",
       "      <td>tt0395169</td>\n",
       "      <td>The latest ceasefire came too\\nlate to save th...</td>\n",
       "    </tr>\n",
       "    <tr>\n",
       "      <th>23</th>\n",
       "      <td>tt1645080</td>\n",
       "      <td>Since the dawn\\nof recorded history \\n\\nsometh...</td>\n",
       "    </tr>\n",
       "    <tr>\n",
       "      <th>24</th>\n",
       "      <td>tt1877832</td>\n",
       "      <td>\\n\\nPROFESSOR X  The future \\nA dark  desolate...</td>\n",
       "    </tr>\n",
       "    <tr>\n",
       "      <th>25</th>\n",
       "      <td>tt0800039</td>\n",
       "      <td>Good for you  Pete  Good for you \\n\\n\\nBILLY B...</td>\n",
       "    </tr>\n",
       "  </tbody>\n",
       "</table>\n",
       "</div>"
      ],
      "text/plain": [
       "      imdb_id                                          subtitulo\n",
       "19  tt0164114  Oh  man \\n\\n  I am so wired \\n  More so than u...\n",
       "20  tt0083943  SRT Reviewed   TJK\\n\\nOne target left  Rejoin ...\n",
       "22  tt0395169  The latest ceasefire came too\\nlate to save th...\n",
       "23  tt1645080  Since the dawn\\nof recorded history \\n\\nsometh...\n",
       "24  tt1877832  \\n\\nPROFESSOR X  The future \\nA dark  desolate...\n",
       "25  tt0800039  Good for you  Pete  Good for you \\n\\n\\nBILLY B..."
      ]
     },
     "execution_count": 75,
     "metadata": {},
     "output_type": "execute_result"
    }
   ],
   "source": [
    "sub_text.head(50)[19:25]"
   ]
  },
  {
   "cell_type": "code",
   "execution_count": 76,
   "metadata": {
    "collapsed": true
   },
   "outputs": [],
   "source": [
    "##Reseteo el indice\n",
    "sub_text = sub_text.reset_index(drop=True)"
   ]
  },
  {
   "cell_type": "code",
   "execution_count": 77,
   "metadata": {},
   "outputs": [
    {
     "data": {
      "text/html": [
       "<div>\n",
       "<style>\n",
       "    .dataframe thead tr:only-child th {\n",
       "        text-align: right;\n",
       "    }\n",
       "\n",
       "    .dataframe thead th {\n",
       "        text-align: left;\n",
       "    }\n",
       "\n",
       "    .dataframe tbody tr th {\n",
       "        vertical-align: top;\n",
       "    }\n",
       "</style>\n",
       "<table border=\"1\" class=\"dataframe\">\n",
       "  <thead>\n",
       "    <tr style=\"text-align: right;\">\n",
       "      <th></th>\n",
       "      <th>imdb_id</th>\n",
       "      <th>subtitulo</th>\n",
       "    </tr>\n",
       "  </thead>\n",
       "  <tbody>\n",
       "    <tr>\n",
       "      <th>8</th>\n",
       "      <td>tt0099700</td>\n",
       "      <td>Stop the music \\n\\n  What's up  duck \\n  What'...</td>\n",
       "    </tr>\n",
       "    <tr>\n",
       "      <th>9</th>\n",
       "      <td>tt1193138</td>\n",
       "      <td>This is what I get in return\\nfor 30 years of ...</td>\n",
       "    </tr>\n",
       "    <tr>\n",
       "      <th>10</th>\n",
       "      <td>tt0815178</td>\n",
       "      <td>That old bitch \\n\\nI'm serious \\nIf I have to ...</td>\n",
       "    </tr>\n",
       "    <tr>\n",
       "      <th>11</th>\n",
       "      <td>tt1371111</td>\n",
       "      <td>Lonesome night \\n\\nBabbits bawlin'  wind bitin...</td>\n",
       "    </tr>\n",
       "    <tr>\n",
       "      <th>12</th>\n",
       "      <td>tt0420238</td>\n",
       "      <td>Once upon a time \\nthere was a brave little mo...</td>\n",
       "    </tr>\n",
       "    <tr>\n",
       "      <th>13</th>\n",
       "      <td>tt0468526</td>\n",
       "      <td>Leave a message  we'll call you back \\n\\nHey  ...</td>\n",
       "    </tr>\n",
       "    <tr>\n",
       "      <th>14</th>\n",
       "      <td>tt2226519</td>\n",
       "      <td>Wait  Come back \\n\\nNo  don't do this \\n\\nAah ...</td>\n",
       "    </tr>\n",
       "    <tr>\n",
       "      <th>15</th>\n",
       "      <td>tt0217630</td>\n",
       "      <td>I think this might be it \\nPaul  Good luck \\n\\...</td>\n",
       "    </tr>\n",
       "    <tr>\n",
       "      <th>16</th>\n",
       "      <td>tt0438488</td>\n",
       "      <td>\\n\\n\\nMarcus \\n\\nHow are you \\n\\nIt's been an ...</td>\n",
       "    </tr>\n",
       "    <tr>\n",
       "      <th>17</th>\n",
       "      <td>tt3787590</td>\n",
       "      <td>Well  it's gonna\\nbe a big night  right \\n\\nI ...</td>\n",
       "    </tr>\n",
       "    <tr>\n",
       "      <th>18</th>\n",
       "      <td>tt0429591</td>\n",
       "      <td>WOMAN'S VOICE \\nHello \\n\\n\\nHAILEY \\nLook at h...</td>\n",
       "    </tr>\n",
       "    <tr>\n",
       "      <th>19</th>\n",
       "      <td>tt0164114</td>\n",
       "      <td>Oh  man \\n\\n  I am so wired \\n  More so than u...</td>\n",
       "    </tr>\n",
       "    <tr>\n",
       "      <th>20</th>\n",
       "      <td>tt0083943</td>\n",
       "      <td>SRT Reviewed   TJK\\n\\nOne target left  Rejoin ...</td>\n",
       "    </tr>\n",
       "    <tr>\n",
       "      <th>21</th>\n",
       "      <td>tt0395169</td>\n",
       "      <td>The latest ceasefire came too\\nlate to save th...</td>\n",
       "    </tr>\n",
       "    <tr>\n",
       "      <th>22</th>\n",
       "      <td>tt1645080</td>\n",
       "      <td>Since the dawn\\nof recorded history \\n\\nsometh...</td>\n",
       "    </tr>\n",
       "    <tr>\n",
       "      <th>23</th>\n",
       "      <td>tt1877832</td>\n",
       "      <td>\\n\\nPROFESSOR X  The future \\nA dark  desolate...</td>\n",
       "    </tr>\n",
       "    <tr>\n",
       "      <th>24</th>\n",
       "      <td>tt0800039</td>\n",
       "      <td>Good for you  Pete  Good for you \\n\\n\\nBILLY B...</td>\n",
       "    </tr>\n",
       "  </tbody>\n",
       "</table>\n",
       "</div>"
      ],
      "text/plain": [
       "      imdb_id                                          subtitulo\n",
       "8   tt0099700  Stop the music \\n\\n  What's up  duck \\n  What'...\n",
       "9   tt1193138  This is what I get in return\\nfor 30 years of ...\n",
       "10  tt0815178  That old bitch \\n\\nI'm serious \\nIf I have to ...\n",
       "11  tt1371111  Lonesome night \\n\\nBabbits bawlin'  wind bitin...\n",
       "12  tt0420238  Once upon a time \\nthere was a brave little mo...\n",
       "13  tt0468526  Leave a message  we'll call you back \\n\\nHey  ...\n",
       "14  tt2226519  Wait  Come back \\n\\nNo  don't do this \\n\\nAah ...\n",
       "15  tt0217630  I think this might be it \\nPaul  Good luck \\n\\...\n",
       "16  tt0438488  \\n\\n\\nMarcus \\n\\nHow are you \\n\\nIt's been an ...\n",
       "17  tt3787590  Well  it's gonna\\nbe a big night  right \\n\\nI ...\n",
       "18  tt0429591  WOMAN'S VOICE \\nHello \\n\\n\\nHAILEY \\nLook at h...\n",
       "19  tt0164114  Oh  man \\n\\n  I am so wired \\n  More so than u...\n",
       "20  tt0083943  SRT Reviewed   TJK\\n\\nOne target left  Rejoin ...\n",
       "21  tt0395169  The latest ceasefire came too\\nlate to save th...\n",
       "22  tt1645080  Since the dawn\\nof recorded history \\n\\nsometh...\n",
       "23  tt1877832  \\n\\nPROFESSOR X  The future \\nA dark  desolate...\n",
       "24  tt0800039  Good for you  Pete  Good for you \\n\\n\\nBILLY B..."
      ]
     },
     "execution_count": 77,
     "metadata": {},
     "output_type": "execute_result"
    }
   ],
   "source": [
    "sub_text.head(50)[8:25]"
   ]
  },
  {
   "cell_type": "code",
   "execution_count": 78,
   "metadata": {
    "collapsed": true
   },
   "outputs": [],
   "source": [
    "##Limpio los subtitulos\n",
    "for i in range(sub_text.shape[0]):\n",
    "    numeros = re.compile('\\d*')\n",
    "    comillas2 = re.compile(\"''\")\n",
    "    comillas = re.compile(\"'\")\n",
    "    espacios = re.compile(\"\\s{2,}\")\n",
    "    enter = re.compile(\"\\n{2,}\")\n",
    "    solo_enter = re.compile (\"\\n\")\n",
    "    \n",
    "    texto = sub_text.iloc[i, 1]\n",
    "    texto = numeros.sub('', texto)\n",
    "    texto = comillas2.sub('', texto)\n",
    "    texto = comillas.sub('', texto)\n",
    "    texto = espacios.sub(' ', texto)\n",
    "    texto = enter.sub('\\n', texto)\n",
    "    texto = solo_enter.sub(' ', texto).strip()\n",
    "    sub_text.iloc[i, 1] = texto"
   ]
  },
  {
   "cell_type": "code",
   "execution_count": 88,
   "metadata": {},
   "outputs": [
    {
     "data": {
      "text/html": [
       "<div>\n",
       "<style>\n",
       "    .dataframe thead tr:only-child th {\n",
       "        text-align: right;\n",
       "    }\n",
       "\n",
       "    .dataframe thead th {\n",
       "        text-align: left;\n",
       "    }\n",
       "\n",
       "    .dataframe tbody tr th {\n",
       "        vertical-align: top;\n",
       "    }\n",
       "</style>\n",
       "<table border=\"1\" class=\"dataframe\">\n",
       "  <thead>\n",
       "    <tr style=\"text-align: right;\">\n",
       "      <th></th>\n",
       "      <th>imdb_id</th>\n",
       "      <th>subtitulo</th>\n",
       "    </tr>\n",
       "  </thead>\n",
       "  <tbody>\n",
       "    <tr>\n",
       "      <th>8</th>\n",
       "      <td>tt0099700</td>\n",
       "      <td>Stop the music Whats up duck Whats up Ill tell...</td>\n",
       "    </tr>\n",
       "  </tbody>\n",
       "</table>\n",
       "</div>"
      ],
      "text/plain": [
       "     imdb_id                                          subtitulo\n",
       "8  tt0099700  Stop the music Whats up duck Whats up Ill tell..."
      ]
     },
     "execution_count": 88,
     "metadata": {},
     "output_type": "execute_result"
    }
   ],
   "source": [
    "sub_text[sub_text.index==8]"
   ]
  },
  {
   "cell_type": "code",
   "execution_count": 122,
   "metadata": {},
   "outputs": [
    {
     "data": {
      "text/plain": [
       "(3295, 2)"
      ]
     },
     "execution_count": 122,
     "metadata": {},
     "output_type": "execute_result"
    }
   ],
   "source": [
    "sub_text.shape"
   ]
  },
  {
   "cell_type": "code",
   "execution_count": 134,
   "metadata": {},
   "outputs": [
    {
     "name": "stdout",
     "output_type": "stream",
     "text": [
      "Duration: 0:18:55.516544\n"
     ]
    }
   ],
   "source": [
    "hora_ini = datetime.now()\n",
    "\n",
    "##Funciones para tokenizar y hacer stemmer\n",
    "stemmer = PorterStemmer()\n",
    "def stem_tokens(tokens, stemmer):\n",
    "    stemmed = []\n",
    "    for item in tokens:\n",
    "        stemmed.append(stemmer.stem(item))\n",
    "    return stemmed\n",
    "\n",
    "def tokenize(text):\n",
    "    tokens = nl.word_tokenize(text)\n",
    "    tokens = [i for i in tokens if i not in st.punctuation]\n",
    "    stems = stem_tokens(tokens, stemmer)\n",
    "    return stems\n",
    "\n",
    "##Hago countvectorizer con los subtitulos y creo un dataframe con los mismos\n",
    "cv = CountVectorizer(tokenizer=tokenize, stop_words='english', lowercase=True, min_df=10, max_df=0.8)\n",
    "#cv = CountVectorizer(stop_words='english', lowercase=True, min_df=10, max_df=0.90)\n",
    "\n",
    "data = cv.fit_transform(sub_text.subtitulo).todense()\n",
    "\n",
    "print('Duration: {}'.format(datetime.now() - hora_ini))\n"
   ]
  },
  {
   "cell_type": "code",
   "execution_count": 135,
   "metadata": {},
   "outputs": [
    {
     "data": {
      "text/plain": [
       "18454"
      ]
     },
     "execution_count": 135,
     "metadata": {},
     "output_type": "execute_result"
    }
   ],
   "source": [
    "len(cv.get_feature_names())"
   ]
  },
  {
   "cell_type": "code",
   "execution_count": 137,
   "metadata": {},
   "outputs": [
    {
     "data": {
      "text/plain": [
       "2005"
      ]
     },
     "execution_count": 137,
     "metadata": {},
     "output_type": "execute_result"
    }
   ],
   "source": [
    "#Genero un data frame con las palabras\n",
    "columns = [c for c in cv.get_feature_names()]\n",
    "subdf = pd.DataFrame(data, columns=columns)\n",
    "subdf.shape\n",
    "\n",
    "subdf.iloc[8,:].sum()"
   ]
  },
  {
   "cell_type": "code",
   "execution_count": 138,
   "metadata": {
    "collapsed": true
   },
   "outputs": [],
   "source": [
    "### Le pego el imdb_id\n",
    "subdf['imdb_id'] = sub_text['imdb_id']"
   ]
  },
  {
   "cell_type": "code",
   "execution_count": 142,
   "metadata": {},
   "outputs": [
    {
     "data": {
      "text/plain": [
       "8    5\n",
       "Name: music, dtype: int64"
      ]
     },
     "execution_count": 142,
     "metadata": {},
     "output_type": "execute_result"
    }
   ],
   "source": [
    "subdf.loc[subdf.index==8, 'music']"
   ]
  },
  {
   "cell_type": "code",
   "execution_count": 143,
   "metadata": {
    "collapsed": true
   },
   "outputs": [],
   "source": [
    "##Le pego los datos del target\n",
    "movie_completo = pd.merge(left = subdf, right = data_movies, on='imdb_id')"
   ]
  },
  {
   "cell_type": "code",
   "execution_count": 145,
   "metadata": {},
   "outputs": [
    {
     "data": {
      "text/plain": [
       "(3295, 18480)"
      ]
     },
     "execution_count": 145,
     "metadata": {},
     "output_type": "execute_result"
    }
   ],
   "source": [
    "movie_completo.shape"
   ]
  },
  {
   "cell_type": "code",
   "execution_count": 146,
   "metadata": {
    "collapsed": true
   },
   "outputs": [],
   "source": [
    "##Guardo el data set\n",
    "movie_completo.to_csv('4_movie_completo.csv', sep=';', index = False)"
   ]
  },
  {
   "cell_type": "code",
   "execution_count": 152,
   "metadata": {},
   "outputs": [
    {
     "data": {
      "text/plain": [
       "(3295, 18480)"
      ]
     },
     "execution_count": 152,
     "metadata": {},
     "output_type": "execute_result"
    }
   ],
   "source": [
    "movie_completo.shape"
   ]
  }
 ],
 "metadata": {
  "kernelspec": {
   "display_name": "Python 3",
   "language": "python",
   "name": "python3"
  },
  "language_info": {
   "codemirror_mode": {
    "name": "ipython",
    "version": 3
   },
   "file_extension": ".py",
   "mimetype": "text/x-python",
   "name": "python",
   "nbconvert_exporter": "python",
   "pygments_lexer": "ipython3",
   "version": "3.6.8"
  }
 },
 "nbformat": 4,
 "nbformat_minor": 2
}
